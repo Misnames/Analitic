{
 "cells": [
  {
   "cell_type": "markdown",
   "id": "52dfa4c6-1ef6-4486-bb4e-a29cfe1315fa",
   "metadata": {},
   "source": [
    "# Задача 1."
   ]
  },
  {
   "cell_type": "code",
   "execution_count": 1,
   "id": "2ed1cf5d-9713-421b-9f3e-47173ff18d3b",
   "metadata": {},
   "outputs": [
    {
     "name": "stdout",
     "output_type": "stream",
     "text": [
      "17\n"
     ]
    }
   ],
   "source": [
    "list = [2, 6, 1, 8, 4, 10, 17, 11, 3, 9]\n",
    "max_number = max(list)\n",
    "print(max_number)"
   ]
  },
  {
   "cell_type": "markdown",
   "id": "7fa7bdbc-b20b-4f27-bc3c-3c128f35271c",
   "metadata": {},
   "source": [
    "# Задача 2"
   ]
  },
  {
   "cell_type": "code",
   "execution_count": 3,
   "id": "7b6291bc-eb19-446f-a55b-d466049e74ae",
   "metadata": {},
   "outputs": [
    {
     "name": "stdout",
     "output_type": "stream",
     "text": [
      "[295, 425, 496, 201]\n"
     ]
    }
   ],
   "source": [
    "purchase = [250, 360, 420, 170]\n",
    "coef = 0.18\n",
    "new_purchase = []\n",
    "for el in purchase:\n",
    "    el = round( el+ (el*coef))\n",
    "    new_purchase.append(el)\n",
    "print(new_purchase)"
   ]
  },
  {
   "cell_type": "markdown",
   "id": "84e73c91-156a-4247-b9a5-f18d00128867",
   "metadata": {},
   "source": [
    "# Задача 3."
   ]
  },
  {
   "cell_type": "code",
   "execution_count": 45,
   "id": "5e0211fd-8b7f-49b2-aafd-b26c7f8fa6b4",
   "metadata": {},
   "outputs": [
    {
     "name": "stdout",
     "output_type": "stream",
     "text": [
      "new_list = [72, 97]\n"
     ]
    }
   ],
   "source": [
    "\n",
    "list = [72, 44, 97, 28, 25]\n",
    "plan = 68\n",
    " \n",
    "new_list = []\n",
    " \n",
    "for el in list:\n",
    "    if  el > plan:\n",
    "        list.remove(el)\n",
    "        new_list.append(el)\n",
    " \n",
    "\n",
    "print(\"new_list =\", new_list)"
   ]
  },
  {
   "cell_type": "markdown",
   "id": "06963af4-4fa9-4889-8266-a1a4e03e4f75",
   "metadata": {},
   "source": [
    "# Задача 4"
   ]
  },
  {
   "cell_type": "code",
   "execution_count": 47,
   "id": "f6d05fb4-d648-4abb-9450-d05967d4ade9",
   "metadata": {},
   "outputs": [
    {
     "name": "stdout",
     "output_type": "stream",
     "text": [
      "{1, 2, 3, 5}\n",
      "{4, 6}\n"
     ]
    }
   ],
   "source": [
    "id_staff = [1, 2, 3, 4, 5, 6]\n",
    "id_shufts = [1, 2, 3, 1, 1, 5, 5, 2, 3, 1, 1]\n",
    "new_staff = []\n",
    "new_shufts =[]\n",
    "\n",
    "for i in id_staff:\n",
    "    for j in id_shufts:\n",
    "        if i == j:\n",
    "           new_staff.append(i)\n",
    "        else:\n",
    "            new_shufts = set(id_staff)-set(new_staff) # получаем список тех, кто не выходил.\n",
    "\n",
    "           \n",
    "print(set(new_staff)) # set  убрать повторяющиеся элементы  коллекции\n",
    "print(new_shufts)\n",
    "\n"
   ]
  },
  {
   "cell_type": "code",
   "execution_count": null,
   "id": "6b521d38-0829-4376-9464-a99c13d5977f",
   "metadata": {},
   "outputs": [],
   "source": []
  },
  {
   "cell_type": "code",
   "execution_count": null,
   "id": "f639ae8f-ae70-4746-a9cb-cd359711aa0c",
   "metadata": {},
   "outputs": [],
   "source": []
  }
 ],
 "metadata": {
  "kernelspec": {
   "display_name": "Python 3 (ipykernel)",
   "language": "python",
   "name": "python3"
  },
  "language_info": {
   "codemirror_mode": {
    "name": "ipython",
    "version": 3
   },
   "file_extension": ".py",
   "mimetype": "text/x-python",
   "name": "python",
   "nbconvert_exporter": "python",
   "pygments_lexer": "ipython3",
   "version": "3.12.0"
  }
 },
 "nbformat": 4,
 "nbformat_minor": 5
}
