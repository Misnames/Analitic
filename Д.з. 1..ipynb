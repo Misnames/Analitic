{
 "cells": [
  {
   "cell_type": "markdown",
   "id": "20f9159a",
   "metadata": {},
   "source": [
    "# Задача 1."
   ]
  },
  {
   "cell_type": "code",
   "execution_count": 1,
   "id": "aa3be99e",
   "metadata": {},
   "outputs": [
    {
     "name": "stdout",
     "output_type": "stream",
     "text": [
      "Pini@mail.ru -  Novikova Polina\n"
     ]
    }
   ],
   "source": [
    "name = \" Polina\"\n",
    "surname = \" Novikova\"\n",
    "mail = \"Pini@mail.ru - \"\n",
    "result =(mail + surname + name)\n",
    "print(result)"
   ]
  },
  {
   "cell_type": "markdown",
   "id": "55a21e8a",
   "metadata": {},
   "source": [
    "# Задача 2."
   ]
  },
  {
   "cell_type": "code",
   "execution_count": 2,
   "id": "dabe6e4e",
   "metadata": {},
   "outputs": [
    {
     "name": "stdout",
     "output_type": "stream",
     "text": [
      "220\n"
     ]
    }
   ],
   "source": [
    "n = 1\n",
    "fix = 150\n",
    "coef = 70\n",
    "quantity = fix + n*coef\n",
    "print(quantity)"
   ]
  },
  {
   "cell_type": "code",
   "execution_count": 1,
   "id": "ff11c3c4",
   "metadata": {},
   "outputs": [
    {
     "name": "stdout",
     "output_type": "stream",
     "text": [
      "1200\n"
     ]
    }
   ],
   "source": [
    "n = 15\n",
    "fix = 150\n",
    "coef = 70\n",
    "quantity = fix + n*coef\n",
    "print(quantity)"
   ]
  },
  {
   "cell_type": "markdown",
   "id": "8c073500",
   "metadata": {},
   "source": [
    "# Задача 3."
   ]
  },
  {
   "cell_type": "code",
   "execution_count": 7,
   "id": "58841d8a",
   "metadata": {},
   "outputs": [
    {
     "name": "stdout",
     "output_type": "stream",
     "text": [
      "600.0 950.0 1500.0000000000002\n"
     ]
    }
   ],
   "source": [
    "initial_amount = 10000 #вкладываемая сумма\n",
    "tp1 = 0.75 # на 9 месяцев\n",
    "tp2 = 1.5 #  на 18 месяцев\n",
    "c1 = 0.08 #  процент по вкладу\n",
    "c2 =0.095 # процент по вкладу\n",
    "c3 = 0.1 # процент по вкладу\n",
    "dep1 = c1 * tp1 # годовой процент\n",
    "dep2 = c2       # годовой процент\n",
    "dep3 = c3*tp2 # годовой процент\n",
    "profit1 = initial_amount*dep1  # прибыль\n",
    "profit2 = initial_amount*dep2\n",
    "profit3 = initial_amount*dep3\n",
    "print(profit1, profit2, profit3)"
   ]
  },
  {
   "cell_type": "markdown",
   "id": "9042b6aa",
   "metadata": {},
   "source": [
    "# Задача 4"
   ]
  },
  {
   "cell_type": "code",
   "execution_count": 8,
   "id": "030774f9",
   "metadata": {},
   "outputs": [
    {
     "name": "stdout",
     "output_type": "stream",
     "text": [
      "33 25 19.0 14.0\n"
     ]
    }
   ],
   "source": [
    "start_milk = 5000\n",
    "s_capp = 150\n",
    "s_latte = 200\n",
    "coef = 1.75\n",
    "b_capp = s_capp*coef \n",
    "b_latte = s_latte*coef \n",
    "q1 = start_milk//s_capp\n",
    "q2 = start_milk//s_latte \n",
    "q3 = start_milk//b_capp\n",
    "q4 = start_milk//b_latte\n",
    "\n",
    "print(q1, q2, q3, q4)\n"
   ]
  },
  {
   "cell_type": "code",
   "execution_count": null,
   "id": "0ecc8e53",
   "metadata": {},
   "outputs": [],
   "source": []
  }
 ],
 "metadata": {
  "kernelspec": {
   "display_name": "Python 3 (ipykernel)",
   "language": "python",
   "name": "python3"
  },
  "language_info": {
   "codemirror_mode": {
    "name": "ipython",
    "version": 3
   },
   "file_extension": ".py",
   "mimetype": "text/x-python",
   "name": "python",
   "nbconvert_exporter": "python",
   "pygments_lexer": "ipython3",
   "version": "3.11.5"
  }
 },
 "nbformat": 4,
 "nbformat_minor": 5
}
