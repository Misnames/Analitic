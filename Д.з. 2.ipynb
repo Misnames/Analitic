{
 "cells": [
  {
   "cell_type": "markdown",
   "id": "7119fd18",
   "metadata": {},
   "source": [
    "# Задача 1."
   ]
  },
  {
   "cell_type": "code",
   "execution_count": 5,
   "id": "7c30e599",
   "metadata": {},
   "outputs": [
    {
     "name": "stdout",
     "output_type": "stream",
     "text": [
      "Скидки на товар отсутсвуют\n"
     ]
    }
   ],
   "source": [
    "name = (\"riz\")\n",
    "unit_price = 4\n",
    "quantity = 3 \n",
    "stock =15/100 # участвует в акции\n",
    "\n",
    "if quantity >=5:\n",
    "    print(\"Скидка на товар 10 процентов\")\n",
    "if quantity >=5 and stock:\n",
    "    print(\"Скидка на товар 10 + 15 процентов\")   \n",
    "if  quantity <=5:  \n",
    "    print(\"Скидки на товар отсутсвуют\")\n",
    "else:\n",
    "   \n",
    "    print(\"Скидка на товар 15 процентов\")   \n",
    "                \n",
    "\n",
    "        \n",
    "    \n",
    "    "
   ]
  },
  {
   "cell_type": "markdown",
   "id": "92159b9d",
   "metadata": {},
   "source": [
    "# Задача 2"
   ]
  },
  {
   "cell_type": "code",
   "execution_count": 4,
   "id": "a2e2304d",
   "metadata": {},
   "outputs": [
    {
     "name": "stdout",
     "output_type": "stream",
     "text": [
      "Ресторан не может вас разместить\n"
     ]
    }
   ],
   "source": [
    "table1 = 2\n",
    "table2 = 4\n",
    "table3 = 8\n",
    "guest = 10\n",
    "if guest <=table1:\n",
    "    print(\"Ваш стол  до 2х человек\")\n",
    "elif table2 >= guest >table1:\n",
    "    print(\"Ваш стол до 4х человек\")\n",
    "elif table2 < guest <= table3:\n",
    "    print (\"Ваш стол до 8 человек\")\n",
    "elif guest > table3:\n",
    "    print(\"Ресторан не может вас разместить\")"
   ]
  },
  {
   "cell_type": "markdown",
   "id": "c0d08470",
   "metadata": {},
   "source": [
    "# Задача 3"
   ]
  },
  {
   "cell_type": "code",
   "execution_count": 1,
   "id": "dab19cc4",
   "metadata": {},
   "outputs": [
    {
     "name": "stdout",
     "output_type": "stream",
     "text": [
      "10 7 5\n"
     ]
    }
   ],
   "source": [
    "a = 5\n",
    "b = 10\n",
    "c = 7\n",
    "if a > b > c:\n",
    "    print(a, b, c)  \n",
    "elif a > c > b: \n",
    "    print(a,c,b)\n",
    "elif c > b > a:\n",
    "    print(c, b, a)  \n",
    "elif c> a >b:\n",
    "    print(c, a, b)\n",
    "elif b > c > a:\n",
    "    print(b, c, a)\n",
    "elif b > a > c:\n",
    "    print(b, a, c)\n"
   ]
  },
  {
   "cell_type": "markdown",
   "id": "df2e7b48",
   "metadata": {},
   "source": [
    "# Задача 4"
   ]
  },
  {
   "cell_type": "code",
   "execution_count": 2,
   "id": "203bac1d",
   "metadata": {},
   "outputs": [
    {
     "name": "stdout",
     "output_type": "stream",
     "text": [
      "Вы не постоянный клиент - скидка отсутствует\n"
     ]
    }
   ],
   "source": [
    "name = \"Wiki\"\n",
    "age = 35\n",
    "num_orders = 6 # число заказов\n",
    "amount = 3500 #  общая сумма заказов\n",
    "if age == 60 and num_orders >=4 and amount >=5000:\n",
    "    print(\"Постоянный клиент - вам положена скидка\")\n",
    "else:\n",
    "    print(\"Вы не постоянный клиент - скидка отсутствует\")\n"
   ]
  },
  {
   "cell_type": "markdown",
   "id": "7cb6b4eb",
   "metadata": {},
   "source": [
    "# Задача 5"
   ]
  },
  {
   "cell_type": "code",
   "execution_count": 23,
   "id": "086a1c63",
   "metadata": {},
   "outputs": [
    {
     "name": "stdout",
     "output_type": "stream",
     "text": [
      "Вам отказано в принятии отправления\n"
     ]
    }
   ],
   "source": [
    "size = 105 # размер\n",
    "L =23 # длина\n",
    "W = 30 # ширина\n",
    "H =52 # высота\n",
    "weight = 12 #  масса\n",
    "dis = 6 #  расстояние доставки\n",
    "if size <=150 and L <=100 and W <=100 and H <=100 and weight <=10 and 3<=dis<=10:\n",
    "    print(\"Ваше отправление  малогабаритное и принято в работу\")\n",
    "else:\n",
    "    print(\"Вам отказано в принятии отправления\")"
   ]
  },
  {
   "cell_type": "markdown",
   "id": "0addc963",
   "metadata": {},
   "source": [
    "# Задача 6"
   ]
  },
  {
   "cell_type": "code",
   "execution_count": 2,
   "id": "11a0f1bd",
   "metadata": {},
   "outputs": [
    {
     "name": "stdout",
     "output_type": "stream",
     "text": [
      "Введите двузначное число: 56\n",
      "пятьдесят шесть\n"
     ]
    }
   ],
   "source": [
    "def number_to_text(num):\n",
    "    # Создаем списки с текстовыми представлениями для чисел от 0 до 19 и десятков\n",
    "    units = ['', 'один', 'два', 'три', 'четыре', 'пять', 'шесть', 'семь', 'восемь', 'девять',\n",
    "             'десять', 'одиннадцать', 'двенадцать', 'тринадцать', 'четырнадцать', 'пятнадцать',\n",
    "             'шестнадцать', 'семнадцать', 'восемнадцать', 'девятнадцать']\n",
    "    tens = ['', '', 'двадцать', 'тридцать', 'сорок', 'пятьдесят', 'шестьдесят', 'семьдесят', 'восемьдесят', 'девяносто']\n",
    "\n",
    "    if num < 0 or num > 99:\n",
    "        return \"Число должно быть от 0 до 99\"\n",
    "    elif num < 20:\n",
    "        return units[num]\n",
    "    else:\n",
    "        tens_digit = num // 10\n",
    "        units_digit = num % 10\n",
    "        # Составляем текстовое представление, учитывая возможные окончания\n",
    "        return tens[tens_digit] + \" \" + units[units_digit]\n",
    "\n",
    "# Получаем число от пользователя\n",
    "num = int(input(\"Введите двузначное число: \"))\n",
    "# Преобразуем число в текст и выводим результат\n",
    "text = number_to_text(num)\n",
    "print(text)"
   ]
  },
  {
   "cell_type": "code",
   "execution_count": null,
   "id": "2144222e",
   "metadata": {},
   "outputs": [],
   "source": []
  }
 ],
 "metadata": {
  "kernelspec": {
   "display_name": "Python 3 (ipykernel)",
   "language": "python",
   "name": "python3"
  },
  "language_info": {
   "codemirror_mode": {
    "name": "ipython",
    "version": 3
   },
   "file_extension": ".py",
   "mimetype": "text/x-python",
   "name": "python",
   "nbconvert_exporter": "python",
   "pygments_lexer": "ipython3",
   "version": "3.12.0"
  }
 },
 "nbformat": 4,
 "nbformat_minor": 5
}
