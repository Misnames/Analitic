{
 "cells": [
  {
   "cell_type": "markdown",
   "id": "75bc73eb-4823-4c1e-8f39-c437df371d95",
   "metadata": {},
   "source": [
    "# Задача 1."
   ]
  },
  {
   "cell_type": "code",
   "execution_count": 94,
   "id": "e7184fd1-bd4e-45ae-8b71-7f7e6b6376b1",
   "metadata": {},
   "outputs": [
    {
     "data": {
      "text/plain": [
       "'Ваш стол до 8 человек'"
      ]
     },
     "execution_count": 94,
     "metadata": {},
     "output_type": "execute_result"
    }
   ],
   "source": [
    "def number_table(gest):   \n",
    "    if gest <= 2:\n",
    "        return \"Ваш стол  до 2х человек\"\n",
    "    elif gest <=4:\n",
    "        return \"Ваш стол до 4х человек\"\n",
    "    elif gest <= 8:\n",
    "        return \"Ваш стол до 8 человек\"\n",
    "    else:\n",
    "        return \"Ресторан не может вас разместить\"\n",
    "number_table(6)"
   ]
  },
  {
   "cell_type": "markdown",
   "id": "0e6701c8-c1db-4b7b-ac5a-be725df35089",
   "metadata": {},
   "source": [
    "# Задача 2."
   ]
  },
  {
   "cell_type": "code",
   "execution_count": 121,
   "id": "1e1d0424-b335-484c-a350-6b1ebaec24e5",
   "metadata": {},
   "outputs": [
    {
     "data": {
      "text/plain": [
       "'Вам отказано в принятии отправления'"
      ]
     },
     "execution_count": 121,
     "metadata": {},
     "output_type": "execute_result"
    }
   ],
   "source": [
    "def pacpage_size(s, l, w, h, weight, dis):\n",
    "   p=()\n",
    "   if p == pacpage_size :\n",
    "        return \"Ваше отправление  малогабаритное и принято в работу\"\n",
    "   else:\n",
    "        return \"Вам отказано в принятии отправления\"\n",
    "pacpage_size(98, 3, 25, 100, 3, 6) "
   ]
  },
  {
   "cell_type": "markdown",
   "id": "cc2e96d3-b713-4ad0-81f4-52aa37bec2b6",
   "metadata": {},
   "source": [
    "# Задача 3."
   ]
  },
  {
   "cell_type": "code",
   "execution_count": 163,
   "id": "f039c243-48cc-42d5-bb10-9247044f2630",
   "metadata": {},
   "outputs": [
    {
     "data": {
      "text/plain": [
       "('Итоговая сумма ', 1100.0)"
      ]
     },
     "execution_count": 163,
     "metadata": {},
     "output_type": "execute_result"
    }
   ],
   "source": [
    "def depos(dep, coef, years):\n",
    "\n",
    "    for i in range(1,6):\n",
    "        dep = dep*(1+coef)\n",
    "        if i==5:\n",
    "            dep = (round(dep, 2))\n",
    "        return \"Итоговая сумма \" , dep\n",
    "depos(1000, 0.1, 2)"
   ]
  },
  {
   "cell_type": "markdown",
   "id": "994142d4-7453-4154-b121-e15780d54dc8",
   "metadata": {},
   "source": [
    "# Задача 4"
   ]
  },
  {
   "cell_type": "code",
   "execution_count": 2,
   "id": "0fb39e94-71bf-430f-b58d-bac0d21a0230",
   "metadata": {},
   "outputs": [
    {
     "data": {
      "text/plain": [
       "10"
      ]
     },
     "execution_count": 2,
     "metadata": {},
     "output_type": "execute_result"
    }
   ],
   "source": [
    "def get_digits_sum (client_cod):\n",
    "    result = 0\n",
    "    while client_cod !=0:\n",
    "        b=client_cod%10\n",
    "        result += b\n",
    "        client_cod //= 10\n",
    "    return result\n",
    "get_digits_sum(1234)"
   ]
  },
  {
   "cell_type": "markdown",
   "id": "c8d74930-34c5-4139-8633-6bc417282297",
   "metadata": {},
   "source": [
    "# Задача 5"
   ]
  },
  {
   "cell_type": "code",
   "execution_count": 4,
   "id": "4031c56e-3f47-4dba-8097-e11ebdb16306",
   "metadata": {},
   "outputs": [],
   "source": [
    "def find_highest_rating(ratings):\n",
    "    if not ratings:\n",
    "        return \"Коллекция пуста.\"\n",
    "    else:\n",
    "        return max(ratings)\n"
   ]
  },
  {
   "cell_type": "code",
   "execution_count": 5,
   "id": "8252b0e6-5a08-461b-94c2-2b7513323409",
   "metadata": {},
   "outputs": [
    {
     "name": "stdout",
     "output_type": "stream",
     "text": [
      "Наибольший рейтинг: 9\n"
     ]
    }
   ],
   "source": [
    "# Пример использования функции\n",
    "ratings = [5, 9, 3, 7, 2, 8]\n",
    "highest_rating = find_highest_rating(ratings)\n",
    "print(\"Наибольший рейтинг:\", highest_rating)"
   ]
  },
  {
   "cell_type": "markdown",
   "id": "974b73ba-8f70-4020-9bf3-7d8030014b3c",
   "metadata": {},
   "source": [
    "# Задача 6"
   ]
  },
  {
   "cell_type": "code",
   "execution_count": 32,
   "id": "bdbd5326-2704-4e10-98a9-4f35a92aea57",
   "metadata": {},
   "outputs": [],
   "source": [
    "def apply_markup(prices):\n",
    "    markup_prices = []\n",
    "    for price in prices:\n",
    "            markup_price = price * 1.18\n",
    "            markup_prices.append(markup_price)\n",
    "            return markup_prices\n"
   ]
  },
  {
   "cell_type": "code",
   "execution_count": 33,
   "id": "644aed46-4432-4ed1-aaac-3eebce98bf2e",
   "metadata": {},
   "outputs": [
    {
     "name": "stdout",
     "output_type": "stream",
     "text": [
      "Цены после наценки: [11.799999999999999]\n"
     ]
    }
   ],
   "source": [
    "# Пример использования функции\n",
    "purchase_prices = [10, 20, 30, 40, 50]\n",
    "markup_prices = apply_markup(purchase_prices)\n",
    "print(\"Цены после наценки:\", markup_prices)"
   ]
  },
  {
   "cell_type": "markdown",
   "id": "0054dad6-dfac-40dd-869f-4ec1ee170640",
   "metadata": {},
   "source": [
    "# Задача 7"
   ]
  },
  {
   "cell_type": "code",
   "execution_count": 28,
   "id": "dae2ddbe-db71-4566-a26e-dd46a95c3d87",
   "metadata": {},
   "outputs": [
    {
     "name": "stdout",
     "output_type": "stream",
     "text": [
      "Модальное значение количества товаров:  2\n"
     ]
    }
   ],
   "source": [
    "data = [2, 2, 3, 3, 3, 4, 2, 1, 1, 1, 1, 1, 2, 2, 2, 3, 3, 5, 6, 4, 4, 2, 1, 2, 2, 4]\n",
    "count_dict = {}\n",
    "for num in data:\n",
    "    count_dict[num] = count_dict.get(num, 0) + 1\n",
    "    mode = max(count_dict, key=count_dict.get)\n",
    "print(\"Модальное значение количества товаров: \", mode) # К сожалению, из-зи проблем с jupyter у меня не подгружаются ни numpy  ни scipy. Пришлось выкручиваться тем, что есть."
   ]
  }
 ],
 "metadata": {
  "kernelspec": {
   "display_name": "Python 3 (ipykernel)",
   "language": "python",
   "name": "python3"
  },
  "language_info": {
   "codemirror_mode": {
    "name": "ipython",
    "version": 3
   },
   "file_extension": ".py",
   "mimetype": "text/x-python",
   "name": "python",
   "nbconvert_exporter": "python",
   "pygments_lexer": "ipython3",
   "version": "3.12.0"
  }
 },
 "nbformat": 4,
 "nbformat_minor": 5
}
