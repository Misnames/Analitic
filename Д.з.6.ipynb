{
 "cells": [
  {
   "cell_type": "code",
   "execution_count": 4,
   "id": "eb70bd4c",
   "metadata": {},
   "outputs": [],
   "source": [
    "import numpy \n",
    "from scipy import stats"
   ]
  },
  {
   "cell_type": "code",
   "execution_count": 5,
   "id": "1b1448a1",
   "metadata": {},
   "outputs": [],
   "source": [
    "years = numpy.array([2745997, 2782353, 1903713, 2202779, 1988858, 1363806, 1266800, 1311604, 1396967, 1477301, 1502477, 1457376, 1479637, 1610122, 1713947, 1761687, 1788948, 1796629, 1902084, 1895822, 1942683, 1940579, 1888729, 1690307, 1604344, 1481074, 1436514, 1398253, 1304087])"
   ]
  },
  {
   "cell_type": "code",
   "execution_count": 6,
   "id": "f72ad955",
   "metadata": {},
   "outputs": [
    {
     "data": {
      "text/plain": [
       "array([2745997, 2782353, 1903713, 2202779, 1988858, 1363806, 1266800,\n",
       "       1311604, 1396967, 1477301, 1502477, 1457376, 1479637, 1610122,\n",
       "       1713947, 1761687, 1788948, 1796629, 1902084, 1895822, 1942683,\n",
       "       1940579, 1888729, 1690307, 1604344, 1481074, 1436514, 1398253,\n",
       "       1304087])"
      ]
     },
     "execution_count": 6,
     "metadata": {},
     "output_type": "execute_result"
    }
   ],
   "source": [
    "years"
   ]
  },
  {
   "cell_type": "code",
   "execution_count": 7,
   "id": "e8e3e221",
   "metadata": {},
   "outputs": [
    {
     "data": {
      "text/plain": [
       "array([ 2.74836085,  2.84626003,  0.48026429,  1.28558716,  0.70954216,\n",
       "       -0.97359356, -1.23481064, -1.11416274, -0.88429784, -0.667975  ,\n",
       "       -0.60018124, -0.7216289 , -0.66168464, -0.31031553, -0.03073628,\n",
       "        0.09781766,  0.17122589,  0.19190924,  0.47587773,  0.45901546,\n",
       "        0.58520244,  0.5795368 ,  0.43991548, -0.09439391, -0.32587449,\n",
       "       -0.65781509, -0.77780595, -0.88083491, -1.13440447])"
      ]
     },
     "execution_count": 7,
     "metadata": {},
     "output_type": "execute_result"
    }
   ],
   "source": [
    "stats.zscore(years) # фильтр z оценки"
   ]
  },
  {
   "cell_type": "code",
   "execution_count": 9,
   "id": "27981ed3",
   "metadata": {},
   "outputs": [],
   "source": [
    "abs_zscore = numpy.abs(stats.zscore(years))"
   ]
  },
  {
   "cell_type": "code",
   "execution_count": 10,
   "id": "b764ad27",
   "metadata": {},
   "outputs": [
    {
     "data": {
      "text/plain": [
       "array([2.74836085, 2.84626003, 0.48026429, 1.28558716, 0.70954216,\n",
       "       0.97359356, 1.23481064, 1.11416274, 0.88429784, 0.667975  ,\n",
       "       0.60018124, 0.7216289 , 0.66168464, 0.31031553, 0.03073628,\n",
       "       0.09781766, 0.17122589, 0.19190924, 0.47587773, 0.45901546,\n",
       "       0.58520244, 0.5795368 , 0.43991548, 0.09439391, 0.32587449,\n",
       "       0.65781509, 0.77780595, 0.88083491, 1.13440447])"
      ]
     },
     "execution_count": 10,
     "metadata": {},
     "output_type": "execute_result"
    }
   ],
   "source": [
    "abs_zscore #  по модулю"
   ]
  },
  {
   "cell_type": "code",
   "execution_count": 17,
   "id": "f39fb157",
   "metadata": {},
   "outputs": [
    {
     "data": {
      "text/plain": [
       "array([], dtype=int32)"
      ]
     },
     "execution_count": 17,
     "metadata": {},
     "output_type": "execute_result"
    }
   ],
   "source": [
    "years[abs_zscore > 3] # отклонение больше чем на 3 стандартных отклонения"
   ]
  },
  {
   "cell_type": "code",
   "execution_count": 19,
   "id": "78311404-02a6-4215-a633-bf92e3ea7834",
   "metadata": {},
   "outputs": [
    {
     "data": {
      "text/plain": [
       "array([2745997, 2782353, 1903713, 2202779, 1988858, 1363806, 1266800,\n",
       "       1311604, 1396967, 1477301, 1502477, 1457376, 1479637, 1610122,\n",
       "       1713947, 1761687, 1788948, 1796629, 1902084, 1895822, 1942683,\n",
       "       1940579, 1888729, 1690307, 1604344, 1481074, 1436514, 1398253,\n",
       "       1304087])"
      ]
     },
     "execution_count": 19,
     "metadata": {},
     "output_type": "execute_result"
    }
   ],
   "source": [
    "years"
   ]
  },
  {
   "cell_type": "code",
   "execution_count": 20,
   "id": "632782eb-70f8-4cb7-83ff-c65a509be553",
   "metadata": {},
   "outputs": [
    {
     "data": {
      "text/plain": [
       "[array([2.74836085, 2.84626003, 0.48026429, 1.28558716, 0.70954216,\n",
       "        0.97359356, 1.23481064, 1.11416274, 0.88429784, 0.667975  ,\n",
       "        0.60018124, 0.7216289 , 0.66168464, 0.31031553, 0.03073628,\n",
       "        0.09781766, 0.17122589, 0.19190924, 0.47587773, 0.45901546,\n",
       "        0.58520244, 0.5795368 , 0.43991548, 0.09439391, 0.32587449,\n",
       "        0.65781509, 0.77780595, 0.88083491, 1.13440447])]"
      ]
     },
     "execution_count": 20,
     "metadata": {},
     "output_type": "execute_result"
    }
   ],
   "source": [
    "[abs_zscore]"
   ]
  },
  {
   "cell_type": "code",
   "execution_count": 22,
   "id": "bbb11903-6015-4314-986c-d4ad56a169fa",
   "metadata": {},
   "outputs": [
    {
     "data": {
      "text/plain": [
       "1725361.2758620689"
      ]
     },
     "execution_count": 22,
     "metadata": {},
     "output_type": "execute_result"
    }
   ],
   "source": [
    "numpy.mean(years[abs_zscore < 3]) #  среднее значение без выбросов (1713947 - 1761687, т.у. 2008-2009 годы)"
   ]
  },
  {
   "cell_type": "code",
   "execution_count": 25,
   "id": "2601a8c6-c9ca-40c5-83e2-cad59510947e",
   "metadata": {},
   "outputs": [
    {
     "data": {
      "text/plain": [
       "1457376.0"
      ]
     },
     "execution_count": 25,
     "metadata": {},
     "output_type": "execute_result"
    }
   ],
   "source": [
    "numpy.quantile(years, 0.25) # 25 квантиль это 2005 год.\n"
   ]
  },
  {
   "cell_type": "code",
   "execution_count": 12,
   "id": "a2056534-d027-4d88-b359-30795399778f",
   "metadata": {},
   "outputs": [
    {
     "data": {
      "text/plain": [
       "1902084.0"
      ]
     },
     "execution_count": 12,
     "metadata": {},
     "output_type": "execute_result"
    }
   ],
   "source": [
    "numpy.quantile(years, 0.75) # 75 квантиль 2012 год."
   ]
  },
  {
   "cell_type": "code",
   "execution_count": 32,
   "id": "e0f5b26e-890b-4183-8d2a-f28ff56be1eb",
   "metadata": {},
   "outputs": [
    {
     "data": {
      "text/plain": [
       "1690307.0"
      ]
     },
     "execution_count": 32,
     "metadata": {},
     "output_type": "execute_result"
    }
   ],
   "source": [
    "numpy.quantile(years, 0.5)  # медиана это 2007-2008 годы.(середина )\n"
   ]
  },
  {
   "cell_type": "code",
   "execution_count": 18,
   "id": "75576dbc-aeff-4f0b-b07a-5ed4a12773fb",
   "metadata": {},
   "outputs": [
    {
     "data": {
      "text/plain": [
       "1902084.0"
      ]
     },
     "execution_count": 18,
     "metadata": {},
     "output_type": "execute_result"
    }
   ],
   "source": [
    "numpy.quantile(years, 0.75)\n"
   ]
  },
  {
   "cell_type": "code",
   "execution_count": 19,
   "id": "8e4a4865-c5d5-49d2-b749-e603bc2f9fd1",
   "metadata": {},
   "outputs": [
    {
     "data": {
      "text/plain": [
       "1457376.0"
      ]
     },
     "execution_count": 19,
     "metadata": {},
     "output_type": "execute_result"
    }
   ],
   "source": [
    "numpy.quantile(years, 0.25)"
   ]
  },
  {
   "cell_type": "code",
   "execution_count": 20,
   "id": "6a17ab98-48df-4afb-ae0f-875d15fe7f76",
   "metadata": {},
   "outputs": [],
   "source": [
    "IQR = (numpy.quantile(years, 0.75) - numpy.quantile(years, 0.25)) # Межкватильный размах"
   ]
  },
  {
   "cell_type": "code",
   "execution_count": 21,
   "id": "e442d73b-720b-4914-8428-03642e89cce0",
   "metadata": {},
   "outputs": [
    {
     "data": {
      "text/plain": [
       "444708.0"
      ]
     },
     "execution_count": 21,
     "metadata": {},
     "output_type": "execute_result"
    }
   ],
   "source": [
    "IQR "
   ]
  },
  {
   "cell_type": "code",
   "execution_count": 28,
   "id": "6af7976c-eee6-46ec-be5c-59d979c92530",
   "metadata": {},
   "outputs": [],
   "source": [
    "quantile25 = numpy.quantile(years, 0.25) \n",
    "quantile75  = numpy.quantile(years, 0.75)\n"
   ]
  },
  {
   "cell_type": "code",
   "execution_count": 30,
   "id": "dabe13e3-a162-48f1-8a4d-3a0b34eb5409",
   "metadata": {},
   "outputs": [
    {
     "data": {
      "text/plain": [
       "1457376.0"
      ]
     },
     "execution_count": 30,
     "metadata": {},
     "output_type": "execute_result"
    }
   ],
   "source": [
    "quantile25 \n"
   ]
  },
  {
   "cell_type": "code",
   "execution_count": 31,
   "id": "4b1fe655-c21a-4855-9dce-b9730abb5847",
   "metadata": {},
   "outputs": [
    {
     "data": {
      "text/plain": [
       "1902084.0"
      ]
     },
     "execution_count": 31,
     "metadata": {},
     "output_type": "execute_result"
    }
   ],
   "source": [
    "quantile75"
   ]
  },
  {
   "cell_type": "code",
   "execution_count": 59,
   "id": "0837221d-61c5-42bb-adfa-50c8b1adbff4",
   "metadata": {},
   "outputs": [],
   "source": [
    "lower_bound = quantile25 - 1.5*IQR"
   ]
  },
  {
   "cell_type": "code",
   "execution_count": 60,
   "id": "150a9044-ae6f-4a1b-968a-fd40e54813e4",
   "metadata": {},
   "outputs": [
    {
     "data": {
      "text/plain": [
       "790314.0"
      ]
     },
     "execution_count": 60,
     "metadata": {},
     "output_type": "execute_result"
    }
   ],
   "source": [
    "lower_bound # минимум б выброса нижнего нет."
   ]
  },
  {
   "cell_type": "code",
   "execution_count": 46,
   "id": "f5b3c964-7f66-4e8f-93d7-f0e945a4cb97",
   "metadata": {},
   "outputs": [],
   "source": [
    "hight_bound = quantile75 + 1.5*IQR"
   ]
  },
  {
   "cell_type": "code",
   "execution_count": 47,
   "id": "0ba47c9e-c1a1-475f-9962-28ce6602065c",
   "metadata": {},
   "outputs": [
    {
     "data": {
      "text/plain": [
       "2569146.0"
      ]
     },
     "execution_count": 47,
     "metadata": {},
     "output_type": "execute_result"
    }
   ],
   "source": [
    "hight_bound # максимум , выброс это 1950 и 1960 гг."
   ]
  },
  {
   "cell_type": "code",
   "execution_count": 72,
   "id": "49c7a2ee-a333-4260-ab4c-211757f923b9",
   "metadata": {},
   "outputs": [
    {
     "data": {
      "text/plain": [
       "array([2745997, 2782353])"
      ]
     },
     "execution_count": 72,
     "metadata": {},
     "output_type": "execute_result"
    }
   ],
   "source": [
    "years[( years<lower_bound) |(years>hight_bound)] # нетипичные годы с точки зрения рождаемости. 1950 и 1960 годы.\n"
   ]
  },
  {
   "cell_type": "code",
   "execution_count": 76,
   "id": "914c88d9-d89f-41c9-afe6-8dbab4bbff03",
   "metadata": {},
   "outputs": [
    {
     "data": {
      "text/plain": [
       "2"
      ]
     },
     "execution_count": 76,
     "metadata": {},
     "output_type": "execute_result"
    }
   ],
   "source": [
    "len(years[(years<lower_bound)|(years>hight_bound)]) # количество 2 шт."
   ]
  },
  {
   "cell_type": "code",
   "execution_count": 79,
   "id": "d37e40c3-25ac-41bd-8649-f8d9f2148145",
   "metadata": {},
   "outputs": [
    {
     "data": {
      "text/plain": [
       "array([], dtype=int32)"
      ]
     },
     "execution_count": 79,
     "metadata": {},
     "output_type": "execute_result"
    }
   ],
   "source": [
    "years[abs_zscore >3]"
   ]
  },
  {
   "cell_type": "code",
   "execution_count": 81,
   "id": "f0c94041-a457-41e3-abc0-8443d0f94b86",
   "metadata": {},
   "outputs": [],
   "source": [
    "numpy.nan = years[abs_zscore >3]"
   ]
  },
  {
   "cell_type": "code",
   "execution_count": 82,
   "id": "8430fcd6-23c6-4e73-9102-09dad686d31d",
   "metadata": {},
   "outputs": [
    {
     "data": {
      "text/plain": [
       "array([], dtype=int32)"
      ]
     },
     "execution_count": 82,
     "metadata": {},
     "output_type": "execute_result"
    }
   ],
   "source": [
    "numpy.nan"
   ]
  },
  {
   "cell_type": "code",
   "execution_count": 84,
   "id": "1bebc9b4-8585-45aa-ad55-1391ba6b964b",
   "metadata": {},
   "outputs": [
    {
     "data": {
      "text/plain": [
       "array([], dtype=int32)"
      ]
     },
     "execution_count": 84,
     "metadata": {},
     "output_type": "execute_result"
    }
   ],
   "source": [
    "years[numpy.isnan(years)]"
   ]
  },
  {
   "cell_type": "code",
   "execution_count": 89,
   "id": "0054323c-e135-406f-b6d5-14a77d352910",
   "metadata": {},
   "outputs": [
    {
     "ename": "SyntaxError",
     "evalue": "cannot assign to function call here. Maybe you meant '==' instead of '='? (4114279157.py, line 1)",
     "output_type": "error",
     "traceback": [
      "\u001b[1;36m  Cell \u001b[1;32mIn[89], line 1\u001b[1;36m\u001b[0m\n\u001b[1;33m    numpy.nanmean(years) = years[numpy.isnan(years)]\u001b[0m\n\u001b[1;37m    ^\u001b[0m\n\u001b[1;31mSyntaxError\u001b[0m\u001b[1;31m:\u001b[0m cannot assign to function call here. Maybe you meant '==' instead of '='?\n"
     ]
    }
   ],
   "source": [
    "numpy.nanmean(years) = years[numpy.isnan(years)]"
   ]
  },
  {
   "cell_type": "code",
   "execution_count": 86,
   "id": "d2ce98b8-4ce6-48f0-8ce8-eb863e99c439",
   "metadata": {},
   "outputs": [
    {
     "data": {
      "text/plain": [
       "1725361.2758620689"
      ]
     },
     "execution_count": 86,
     "metadata": {},
     "output_type": "execute_result"
    }
   ],
   "source": [
    "numpy.nanmean(years) #  среднее значение в ряду, игнорирующее значения nan."
   ]
  },
  {
   "cell_type": "code",
   "execution_count": null,
   "id": "db983a2a-e5b3-4474-9e62-3ab5d1e641d0",
   "metadata": {},
   "outputs": [],
   "source": [
    "numpy.nanmax(years)=years[numpy.isnan(years)]\n"
   ]
  },
  {
   "cell_type": "code",
   "execution_count": 87,
   "id": "a20194c8-ac44-4cef-9d7e-d3533fea70f7",
   "metadata": {},
   "outputs": [
    {
     "data": {
      "text/plain": [
       "2782353"
      ]
     },
     "execution_count": 87,
     "metadata": {},
     "output_type": "execute_result"
    }
   ],
   "source": [
    "numpy.nanmax(years) #  max. (заменить или на среднее или на max)"
   ]
  },
  {
   "cell_type": "code",
   "execution_count": null,
   "id": "73ffc5c5-9b50-4496-9e47-29bf43eb8815",
   "metadata": {},
   "outputs": [],
   "source": []
  }
 ],
 "metadata": {
  "kernelspec": {
   "display_name": "Python 3 (ipykernel)",
   "language": "python",
   "name": "python3"
  },
  "language_info": {
   "codemirror_mode": {
    "name": "ipython",
    "version": 3
   },
   "file_extension": ".py",
   "mimetype": "text/x-python",
   "name": "python",
   "nbconvert_exporter": "python",
   "pygments_lexer": "ipython3",
   "version": "3.12.0"
  }
 },
 "nbformat": 4,
 "nbformat_minor": 5
}
