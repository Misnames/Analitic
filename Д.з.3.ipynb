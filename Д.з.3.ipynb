{
 "cells": [
  {
   "cell_type": "markdown",
   "id": "8dc05386-5c3a-4b15-b7d2-e5ef6191c489",
   "metadata": {},
   "source": [
    "# Задача 1."
   ]
  },
  {
   "cell_type": "code",
   "execution_count": 3,
   "id": "ff951435-b937-462b-b875-9edc3135d17d",
   "metadata": {},
   "outputs": [
    {
     "name": "stdout",
     "output_type": "stream",
     "text": [
      "200\n",
      "400\n",
      "600\n",
      "800\n"
     ]
    }
   ],
   "source": [
    "n = 200\n",
    "for i in range(1, 1000):\n",
    "    if(i % n == 0):\n",
    "        print(i)"
   ]
  },
  {
   "cell_type": "markdown",
   "id": "66c9a459-1125-4b8d-947b-2c8d12928880",
   "metadata": {},
   "source": [
    "# Задача 2"
   ]
  },
  {
   "cell_type": "code",
   "execution_count": 1,
   "id": "e98cefc3-1af6-4606-b4f8-c4acf6be8043",
   "metadata": {},
   "outputs": [
    {
     "name": "stdout",
     "output_type": "stream",
     "text": [
      "1538.62\n"
     ]
    }
   ],
   "source": [
    "deposit = 1000\n",
    "coef = 9 / 100\n",
    "for i in range(1,6): # вклад на 5 лет\n",
    "    deposit= deposit*(1+coef)\n",
    "    if i==5:\n",
    "        print(round(deposit, 2))\n",
    "    "
   ]
  },
  {
   "cell_type": "markdown",
   "id": "451813fa-0f51-493e-ae87-78f87aa74f90",
   "metadata": {},
   "source": [
    "# Задача 3"
   ]
  },
  {
   "cell_type": "code",
   "execution_count": null,
   "id": "ac4937b2-217d-4bec-9be3-70e9857807a2",
   "metadata": {},
   "outputs": [],
   "source": [
    "purchase_number = 5\n",
    "if purchase_number  <=0:\n",
    "    point = 0\n",
    "elif purchase_number <=2:\n",
    "    point = 1\n",
    "else:\n",
    "    "
   ]
  },
  {
   "cell_type": "markdown",
   "id": "52b4d954-642a-4eff-b753-36af51957757",
   "metadata": {},
   "source": [
    "# Задача 4"
   ]
  },
  {
   "cell_type": "code",
   "execution_count": 15,
   "id": "66f7e72b-53c1-43ab-abde-1aa860853a94",
   "metadata": {},
   "outputs": [
    {
     "name": "stdout",
     "output_type": "stream",
     "text": [
      "8\n"
     ]
    }
   ],
   "source": [
    "a = 125\n",
    "\n",
    "b = a % 10 # последняя цифра\n",
    "c = (a % 100)//10 # средняя цифра\n",
    "d = a // 100 # первая цифра\n",
    "sum_a = b+c+d\n",
    "print(sum_a )\n"
   ]
  },
  {
   "cell_type": "markdown",
   "id": "79838a79-8775-4a48-ac7b-139d51a7a287",
   "metadata": {},
   "source": [
    "# Задача 5"
   ]
  },
  {
   "cell_type": "code",
   "execution_count": 19,
   "id": "87592ed2-d8f6-42e1-9bf9-17ca8aa59274",
   "metadata": {},
   "outputs": [
    {
     "name": "stdout",
     "output_type": "stream",
     "text": [
      "{1000: 5, 500: 0, 100: 3}\n"
     ]
    }
   ],
   "source": [
    "amount = 5300\n",
    "denomination = [1000, 500, 100]\n",
    "result = {}\n",
    "for denomination  in denomination :\n",
    "    count = amount // denomination \n",
    "    result[denomination] = count\n",
    "    amount  -= count * denomination \n",
    "print(result)\n",
    "    \n"
   ]
  },
  {
   "cell_type": "code",
   "execution_count": null,
   "id": "44bc4ccf-6caa-4583-9d04-4807229238ff",
   "metadata": {},
   "outputs": [],
   "source": []
  },
  {
   "cell_type": "markdown",
   "id": "72f76e1a-a9e1-494b-9afe-4c900df8fd7f",
   "metadata": {},
   "source": [
    "# Задача 6"
   ]
  },
  {
   "cell_type": "code",
   "execution_count": 4,
   "id": "f372dd8e-86f7-4243-a1fd-bc776426a2f1",
   "metadata": {},
   "outputs": [
    {
     "name": "stdout",
     "output_type": "stream",
     "text": [
      "Количество начисленных баллов:  8\n"
     ]
    }
   ],
   "source": [
    "n=6\n",
    "fib1 =1\n",
    "fib2 =1\n",
    "for _ in range(2,n):\n",
    "    tmp = fib1 + fib2\n",
    "    fib1=fib2\n",
    "    fib2= tmp\n",
    "print('Количество начисленных баллов: ', fib2)"
   ]
  },
  {
   "cell_type": "code",
   "execution_count": null,
   "id": "dc707531-d3a2-4281-9df0-818aa34f61f3",
   "metadata": {},
   "outputs": [],
   "source": []
  }
 ],
 "metadata": {
  "kernelspec": {
   "display_name": "Python 3 (ipykernel)",
   "language": "python",
   "name": "python3"
  },
  "language_info": {
   "codemirror_mode": {
    "name": "ipython",
    "version": 3
   },
   "file_extension": ".py",
   "mimetype": "text/x-python",
   "name": "python",
   "nbconvert_exporter": "python",
   "pygments_lexer": "ipython3",
   "version": "3.12.0"
  }
 },
 "nbformat": 4,
 "nbformat_minor": 5
}
